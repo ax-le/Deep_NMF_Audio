{
 "cells": [
  {
   "cell_type": "code",
   "execution_count": 1,
   "metadata": {},
   "outputs": [],
   "source": [
    "import numpy as np\n",
    "import librosa\n",
    "import IPython.display as ipd\n",
    "\n",
    "import nn_fac.multilayer_nmf as mlnmf\n",
    "import nn_fac.deep_nmf as dnmf\n",
    "from nn_fac.utils.current_plot import *\n",
    "\n",
    "import features\n",
    "\n",
    "import model.data_manipulation\n",
    "import model.autosimilarity_computation\n",
    "from model import pattern_study\n",
    "\n",
    "# %% Audio params\n",
    "sr = 44100\n",
    "\n",
    "# %% General params\n",
    "eps = 1e-12\n",
    "plotting = False # If you want data to be plotted\n",
    "\n",
    "# %% Deep NMF params\n",
    "all_ranks = [32,8]\n",
    "n_iter = 200\n",
    "n_iter_init_deep_nmf = 100\n",
    "n_iter_deep = n_iter - n_iter_init_deep_nmf # 100 iterations for the initialization using multi-layer NMF\n",
    "\n",
    "nb_bars = 12\n",
    "\n",
    "hop_length = 32\n",
    "subdivision = 96"
   ]
  },
  {
   "cell_type": "code",
   "execution_count": 2,
   "metadata": {},
   "outputs": [
    {
     "name": "stderr",
     "output_type": "stream",
     "text": [
      "/home/a23marmo/.local/lib/python3.10/site-packages/madmom/io/audio.py:643: WavFileWarning: Chunk (non-data) not understood, skipping it.\n",
      "  file_sample_rate, signal = wavfile.read(filename, mmap=True)\n"
     ]
    }
   ],
   "source": [
    "# for the original song\n",
    "audio_path = 'data/Come_Together.wav'\n",
    "signal, _ = librosa.load(audio_path, sr=sr, mono=True)\n",
    "\n",
    "bars = model.data_manipulation.get_bars_from_audio(audio_path) # Computing the bars"
   ]
  },
  {
   "cell_type": "code",
   "execution_count": 5,
   "metadata": {},
   "outputs": [
    {
     "name": "stdout",
     "output_type": "stream",
     "text": [
      "[[2.3608123e-05 2.5555906e-05 2.7631035e-05 ... 9.2708055e-05\n",
      "  9.1713664e-05 9.0160080e-05]\n",
      " [2.5762540e-05 2.7046104e-05 2.8183340e-05 ... 8.9397705e-05\n",
      "  8.7602501e-05 8.5532200e-05]\n",
      " [2.7038765e-05 2.7419936e-05 2.7588430e-05 ... 7.7211305e-05\n",
      "  7.7098812e-05 7.6566088e-05]\n",
      " ...\n",
      " [2.4319612e-03 2.5183933e-03 2.5971727e-03 ... 2.6041160e-03\n",
      "  2.4796459e-03 2.3531762e-03]\n",
      " [1.8113722e-03 1.9522868e-03 2.1033881e-03 ... 2.5870085e-03\n",
      "  2.4421250e-03 2.2901911e-03]\n",
      " [3.4693372e-04 1.7748478e-04 1.0798965e-05 ... 2.3345607e-03\n",
      "  2.2041851e-03 2.0639615e-03]]\n",
      "Griffin-Lim\n",
      "Original phase\n"
     ]
    }
   ],
   "source": [
    "oversampled_spectrogram_complex = spectrogram = features.get_spectrogram(signal, sr, hop_length=32, feature=\"stft_complex\")\n",
    "original_barwise_tf_matrix_mag = model.barwise_input.barwise_TF_matrix(oversampled_spectrogram_complex[0], bars, hop_length/sr, subdivision) + eps\n",
    "original_barwise_tf_matrix_phase = model.barwise_input.barwise_TF_matrix(oversampled_spectrogram_complex[1], bars, hop_length/sr, subdivision)\n",
    "\n",
    "median_hop = pattern_study.get_median_hop(bars, subdivision = subdivision, sampling_rate = sr)\n",
    "print(\"Griffin-Lim\")\n",
    "pattern_study.TF_matrix_to_audio_signal(original_barwise_tf_matrix_mag, feature=\"stft\", hop_length=median_hop, phase_retrieval=\"griffin_lim\", barwise_tf_original_phase=original_barwise_tf_matrix_phase, frequency_dimension=1025, subdivision=subdivision)\n",
    "print(\"Original phase\")\n",
    "pattern_study.TF_matrix_to_audio_signal(original_barwise_tf_matrix_mag, feature=\"stft\", hop_length=median_hop, phase_retrieval=\"original_phase\", barwise_tf_original_phase=original_barwise_tf_matrix_phase, frequency_dimension=1025, subdivision=subdivision)\n",
    "\n",
    "# For the tests hereafter, define how to retrieve the phase\n",
    "phase_retrieval = \"original_phase\""
   ]
  },
  {
   "cell_type": "code",
   "execution_count": 6,
   "metadata": {},
   "outputs": [],
   "source": [
    "W_multi, H_multi, errors_multi, toc_multi = mlnmf.multilayer_beta_NMF(original_barwise_tf_matrix_mag, all_ranks = all_ranks, beta = 1, n_iter_max_each_nmf = n_iter, return_errors = True)"
   ]
  },
  {
   "cell_type": "code",
   "execution_count": null,
   "metadata": {},
   "outputs": [],
   "source": [
    "song_sdrs_multi, pattern_sdrs_multi, subset_minmax_pattern_sdrs_multi,audios_song_scale_multi, audios_patterns_multi = pattern_study.pattern_encapsulation_multinmf(W_multi, H_multi, phase_retrieval=phase_retrieval, barwise_tf_mag_original=original_barwise_tf_matrix_mag, barwise_tf_phase_original=original_barwise_tf_matrix_phase,\n",
    "                                                                                                                         hop_length = median_hop, feature = \"stft\", frequency_dimension=1025, subdivision=subdivision,\n",
    "                                                                                                                         subset_nb_bars=nb_bars)\n",
    "\n",
    "for level_decomp in range(len(all_ranks)):\n",
    "    print(f\"Level {level_decomp} of the decomposition\")\n",
    "    print(f\"SDR song scale: {song_sdrs_multi[level_decomp]}\")\n",
    "    ipd.display(audios_song_scale_multi[level_decomp])\n",
    "    print(f\"SDR pattern scale: {pattern_sdrs_multi[level_decomp][0]} +- {pattern_sdrs_multi[level_decomp][1]}\")\n",
    "\n",
    "    for iterator_patterns, ranking_patterns in enumerate([\"max\", \"min\", \"median\"]):\n",
    "        print(f\"Pattern {ranking_patterns} SDR: {subset_minmax_pattern_sdrs_multi[level_decomp][iterator_patterns]}\")\n",
    "        ipd.display(audios_patterns_multi[level_decomp][iterator_patterns])\n",
    "\n",
    "    # print(\"Original phase\")\n",
    "    # pattern_study.display_audio_from_spectrogram(spectro_mag, feature=feature, hop_length=median_hop, phase_retrieval=\"original_phase\", original_phase=phase)"
   ]
  },
  {
   "cell_type": "code",
   "execution_count": null,
   "metadata": {},
   "outputs": [],
   "source": [
    "W_deep, H_deep, errors_deep, toc_deep = dnmf.deep_KL_NMF(original_barwise_tf_matrix_mag, all_ranks = all_ranks, n_iter_max_each_nmf = n_iter_init_deep_nmf, n_iter_max_deep_loop = n_iter_deep,return_errors=True)\n"
   ]
  },
  {
   "cell_type": "code",
   "execution_count": null,
   "metadata": {},
   "outputs": [],
   "source": [
    "song_sdrs_deep, pattern_sdrs_deep, subset_minmax_pattern_sdrs_deep, audios_song_scale_deep, audios_patterns_deep = pattern_study.pattern_encapsulation_multinmf(W_deep, H_deep, phase_retrieval=phase_retrieval, barwise_tf_mag_original=original_barwise_tf_matrix_mag, barwise_tf_phase_original=original_barwise_tf_matrix_phase,\n",
    "                                                                                                                         hop_length = median_hop, feature = \"stft\", frequency_dimension=1025, subdivision=subdivision,\n",
    "                                                                                                                         subset_nb_bars=nb_bars)\n",
    "\n",
    "for level_decomp in range(len(all_ranks)):\n",
    "    print(f\"Level {level_decomp} of the decomposition\")\n",
    "    print(f\"SDR song scale: {song_sdrs_deep[level_decomp]}\")\n",
    "    ipd.display(audios_song_scale_deep[level_decomp])\n",
    "    print(f\"SDR pattern scale: {pattern_sdrs_deep[level_decomp][0]} +- {pattern_sdrs_deep[level_decomp][1]}\")\n",
    "\n",
    "    for iterator_patterns, ranking_patterns in enumerate([\"max\", \"min\", \"median\"]):\n",
    "        print(f\"Pattern {ranking_patterns} SDR: {subset_minmax_pattern_sdrs_deep[level_decomp][iterator_patterns]}\")\n",
    "        ipd.display(audios_patterns_deep[level_decomp][iterator_patterns])"
   ]
  }
 ],
 "metadata": {
  "kernelspec": {
   "display_name": "Python 3 (ipykernel)",
   "language": "python",
   "name": "python3"
  },
  "language_info": {
   "codemirror_mode": {
    "name": "ipython",
    "version": 3
   },
   "file_extension": ".py",
   "mimetype": "text/x-python",
   "name": "python",
   "nbconvert_exporter": "python",
   "pygments_lexer": "ipython3",
   "version": "3.10.12"
  },
  "toc": {
   "base_numbering": 1,
   "nav_menu": {},
   "number_sections": true,
   "sideBar": true,
   "skip_h1_title": false,
   "title_cell": "Table of Contents",
   "title_sidebar": "Contents",
   "toc_cell": false,
   "toc_position": {},
   "toc_section_display": true,
   "toc_window_display": false
  },
  "varInspector": {
   "cols": {
    "lenName": 16,
    "lenType": 16,
    "lenVar": 40
   },
   "kernels_config": {
    "python": {
     "delete_cmd_postfix": "",
     "delete_cmd_prefix": "del ",
     "library": "var_list.py",
     "varRefreshCmd": "print(var_dic_list())"
    },
    "r": {
     "delete_cmd_postfix": ") ",
     "delete_cmd_prefix": "rm(",
     "library": "var_list.r",
     "varRefreshCmd": "cat(var_dic_list()) "
    }
   },
   "types_to_exclude": [
    "module",
    "function",
    "builtin_function_or_method",
    "instance",
    "_Feature"
   ],
   "window_display": false
  }
 },
 "nbformat": 4,
 "nbformat_minor": 4
}
