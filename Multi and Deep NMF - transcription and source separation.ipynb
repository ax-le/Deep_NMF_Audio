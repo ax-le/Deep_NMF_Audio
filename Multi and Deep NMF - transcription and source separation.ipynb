{
 "cells": [
  {
   "cell_type": "code",
   "execution_count": null,
   "metadata": {},
   "outputs": [],
   "source": [
    "# Import libraries\n",
    "import numpy as np\n",
    "import matplotlib.pyplot as plt\n",
    "import librosa\n",
    "import IPython.display as ipd\n",
    "import copy\n",
    "\n",
    "import nn_fac.multilayer_nmf as mlnmf\n",
    "import nn_fac.deep_nmf as dnmf\n",
    "#from nn_fac.utils.current_plot import *\n",
    "\n",
    "import base_audio.audio_helper as audio_helper\n",
    "import base_audio.signal_to_spectrogram as signal_to_spectrogram\n",
    "\n",
    "from tasks.mss import mss as source_separation_utils\n",
    "from tasks.transcription import transcription as transcription_utils\n",
    "import tasks.msa.plotting_utils as plotting_utils"
   ]
  },
  {
   "cell_type": "code",
   "execution_count": null,
   "metadata": {},
   "outputs": [],
   "source": [
    "# %% Audio params\n",
    "sr = 44100\n",
    "hop_length = 1024\n",
    "feature_object = signal_to_spectrogram.FeatureObject(sr=sr, feature=\"stft\", hop_length=hop_length, n_fft = 2048)\n",
    "\n",
    "# %% General params\n",
    "eps = 1e-12\n",
    "plotting = False # If you want data to be plotted\n",
    "\n",
    "# %% Deep NMF params\n",
    "all_ranks = [32,16,10]\n",
    "n_iter = 800\n",
    "n_iter_init_deep_nmf = 100\n",
    "n_iter_deep = n_iter - n_iter_init_deep_nmf # 100 iterations for the initialization using multi-layer NMF\n"
   ]
  },
  {
   "cell_type": "code",
   "execution_count": null,
   "metadata": {},
   "outputs": [],
   "source": [
    "audio_path = 'data/Drum+Bass.wav'\n",
    "signal, _ = librosa.load(audio_path, sr=sr, mono=True)\n",
    "#plot_me_this_spectrogram(features.get_spectrogram(signal, sr, feature=\"stft\", hop_length=512), title='Spectrogram of the input signal', x_axis='Time T (s)', y_axis='Frequency F (Hz)')\n",
    "\n",
    "spectrogram = feature_object.get_spectrogram(signal)"
   ]
  },
  {
   "cell_type": "code",
   "execution_count": null,
   "metadata": {},
   "outputs": [],
   "source": [
    "transcription_tool = transcription_utils.Transcription(feature_object)\n",
    "source_separation_tool = source_separation_utils.MusicSourceSeparation(feature_object, nb_sources = 2, phase_retrieval=\"griffin_lim\") # If the dimension of the last layer is larger than the number of sources, sources are clustered using the MFCC features of the columns of W."
   ]
  },
  {
   "cell_type": "code",
   "execution_count": null,
   "metadata": {},
   "outputs": [],
   "source": [
    "W_multi, H_multi, errors_multi, toc_multi = mlnmf.multilayer_beta_NMF(spectrogram, all_ranks = all_ranks, beta = 1, n_iter_max_each_nmf = n_iter, return_errors = True)"
   ]
  },
  {
   "cell_type": "code",
   "execution_count": null,
   "metadata": {},
   "outputs": [],
   "source": [
    "# Transcription\n",
    "notes_predicted = transcription_tool.predict(W_multi[0], H_multi[0])\n",
    "len(notes_predicted)\n",
    "\n",
    "# Source Separation\n",
    "last_level_H_multi = None\n",
    "for level in range(0, len(H_multi)):\n",
    "    if last_level_H_multi is None:\n",
    "        last_level_H_multi = H_multi[level]\n",
    "    else:\n",
    "        last_level_H_multi = H_multi[level] @ last_level_H_multi\n",
    "\n",
    "source_separated_multi = source_separation_tool.predict(W_multi[-1], last_level_H_multi)\n",
    "for signal in source_separated_multi:\n",
    "    audio_helper.listen_to_this_signal(signal, sr=44100)"
   ]
  },
  {
   "cell_type": "code",
   "execution_count": null,
   "metadata": {},
   "outputs": [],
   "source": [
    "W_deep, H_deep, errors_deep, toc_deep = dnmf.deep_KL_NMF(spectrogram, all_ranks = all_ranks, n_iter_max_each_nmf = n_iter_init_deep_nmf, n_iter_max_deep_loop = n_iter_deep,return_errors=True)\n"
   ]
  },
  {
   "cell_type": "code",
   "execution_count": null,
   "metadata": {},
   "outputs": [],
   "source": [
    "# Transcription\n",
    "notes_predicted_deep = transcription_tool.predict(W_deep[0], H_deep[0])\n",
    "len(notes_predicted_deep)\n",
    "\n",
    "# Source Separation\n",
    "last_level_H_deep = None\n",
    "for level in range(0, len(H_deep)):\n",
    "    if last_level_H_deep is None:\n",
    "        last_level_H_deep = H_deep[level]\n",
    "    else:\n",
    "        last_level_H_deep = H_deep[level] @ last_level_H_deep\n",
    "\n",
    "source_separated_deep = source_separation_tool.predict(W_deep[-1], last_level_H_deep)\n",
    "for signal in source_separated_deep:\n",
    "    audio_helper.listen_to_this_signal(signal, sr=44100)"
   ]
  },
  {
   "cell_type": "code",
   "execution_count": null,
   "metadata": {},
   "outputs": [],
   "source": [
    "# Evolution of the erros at the different levels of \n",
    "# deep β-NMF with β = 1 (initialized with multilayer β-NMF after 250 iterations) \n",
    "# divided by the error of multilayer β-NMF after 500 iterations.\n",
    "plt.figure(1)\n",
    "plt.plot(errors_deep[0,1:], color='blue', label='Layer 1')\n",
    "plt.plot(errors_deep[1,1:], color='red', label='Layer 2')\n",
    "plt.plot(errors_deep[2,1:], color='black', label='Layer 3')\n",
    "plt.xlabel('Iterations')\n",
    "plt.ylabel('Ratio deep vs. multilayer')\n",
    "# plt.title(r'Computation $x^\\star$')\n",
    "plt.legend()\n",
    "plt.show()"
   ]
  },
  {
   "cell_type": "code",
   "execution_count": null,
   "metadata": {},
   "outputs": [],
   "source": [
    "# Check the constraints\n",
    "l = 0\n",
    "print(\"Layer 1:\", np.sum(H_deep[l], axis=1))\n",
    "l += 1\n",
    "print(\"Layer 2:\", np.sum(H_deep[l], axis=1))\n",
    "l += 1\n",
    "print(\"Layer 2:\", np.sum(H_deep[l], axis=1))\n",
    "      "
   ]
  },
  {
   "cell_type": "code",
   "execution_count": null,
   "metadata": {},
   "outputs": [],
   "source": [
    "plotting_utils.plot_permuted_factor(W_deep[0], \"Q matrix of the top layer.\", x_axis='bars', y_axis='Patterns (rows in H)')\n",
    "plotting_utils.plot_permuted_factor(W_deep[1], \"Q matrix of the intemediate layer.\", x_axis='bars', y_axis='Patterns (rows in H)')\n",
    "plotting_utils.plot_permuted_factor(W_deep[2], \"Q matrix of the bottom layer.\", x_axis='bars', y_axis='Patterns (rows in H)')"
   ]
  },
  {
   "cell_type": "code",
   "execution_count": null,
   "metadata": {},
   "outputs": [],
   "source": [
    "plotting_utils.plot_me_this_spectrogram(W_deep[0].T)#, \"Q matrix of the top layer.\", x_axis='bars', y_axis='Patterns (rows in H)')\n",
    "plotting_utils.plot_me_this_spectrogram(W_deep[1].T)#, \"Q matrix of the intemediate layer.\", x_axis='bars', y_axis='Patterns (rows in H)')\n",
    "plotting_utils.plot_me_this_spectrogram(W_deep[2].T)#, \"Q matrix of the bottom layer.\", x_axis='bars', y_axis='Patterns (rows in H)')"
   ]
  }
 ],
 "metadata": {
  "kernelspec": {
   "display_name": "barmuscomp",
   "language": "python",
   "name": "python3"
  },
  "language_info": {
   "codemirror_mode": {
    "name": "ipython",
    "version": 3
   },
   "file_extension": ".py",
   "mimetype": "text/x-python",
   "name": "python",
   "nbconvert_exporter": "python",
   "pygments_lexer": "ipython3",
   "version": "3.11.10"
  },
  "toc": {
   "base_numbering": 1,
   "nav_menu": {},
   "number_sections": true,
   "sideBar": true,
   "skip_h1_title": false,
   "title_cell": "Table of Contents",
   "title_sidebar": "Contents",
   "toc_cell": false,
   "toc_position": {},
   "toc_section_display": true,
   "toc_window_display": false
  },
  "varInspector": {
   "cols": {
    "lenName": 16,
    "lenType": 16,
    "lenVar": 40
   },
   "kernels_config": {
    "python": {
     "delete_cmd_postfix": "",
     "delete_cmd_prefix": "del ",
     "library": "var_list.py",
     "varRefreshCmd": "print(var_dic_list())"
    },
    "r": {
     "delete_cmd_postfix": ") ",
     "delete_cmd_prefix": "rm(",
     "library": "var_list.r",
     "varRefreshCmd": "cat(var_dic_list()) "
    }
   },
   "types_to_exclude": [
    "module",
    "function",
    "builtin_function_or_method",
    "instance",
    "_Feature"
   ],
   "window_display": false
  }
 },
 "nbformat": 4,
 "nbformat_minor": 4
}
